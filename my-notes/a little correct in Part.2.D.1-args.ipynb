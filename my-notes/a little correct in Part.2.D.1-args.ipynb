Xiaolai老师原文引用“而后，increase_one() 函数的代码开始执行，局域变量 n 经过 n += 1 之后，其中存储的值是 2，而后这个值被 return 语句返回，所以，print(increase(n)) 所输出的值是函数被调用之后的返回值，即，2。”

其中print(increase(n)) 改为print(increase_one(n)) 
